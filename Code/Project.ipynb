{
 "cells": [
  {
   "cell_type": "markdown",
   "metadata": {},
   "source": [
    "# Import Package"
   ]
  },
  {
   "cell_type": "code",
   "execution_count": 1,
   "metadata": {},
   "outputs": [],
   "source": [
    "import os\n",
    "import cv2\n",
    "import numpy as np\n",
    "from tqdm import tqdm\n",
    "from PIL import Image, ImageFile,UnidentifiedImageError, ImageEnhance,ImageOps\n",
    "import matplotlib.pyplot as plt\n",
    "from sklearn.preprocessing import LabelEncoder\n",
    "from collections import defaultdict\n",
    "from sklearn.preprocessing import LabelEncoder\n",
    "from scipy.stats import skew\n",
    "import random\n",
    "import torch\n",
    "import seaborn as sns\n",
    "import pickle\n",
    "import mediapipe as mp\n",
    "from tensorflow.keras.models import Sequential\n",
    "from tensorflow.keras.layers import Dense, Dropout\n",
    "from tensorflow.keras.utils import to_categorical\n",
    "from sklearn.model_selection import train_test_split"
   ]
  },
  {
   "cell_type": "markdown",
   "metadata": {},
   "source": [
    "# STEP 1:  Problem Understanding \n",
    "\n",
    "- Bài toán: Nhận diện ký hiệu cơ thể chuyển sang ngôn ngữ đọc nói từ ảnh và video có sẵn.\n",
    "\n",
    "- Loại bài toán: Phân loại ký hiệu tay, xử lý chuỗi văn bản, chuyển văn bản sang giọng nói .\n",
    "\n",
    "- Đầu vào:  Các ảnh và video bàn tay và cơ thể người đang thưc hiện các ký hiệu.\n",
    "\n",
    "- Output : (target) đưa ra văn bản và giọng nói sau khi đã nhận diện được chuỗi hành dộng.\n",
    "\n",
    "- Mục tiêu: Giúp người khiếm thính và người khiếm thị có thể giao tiếp tốt với mọi người xung quanh."
   ]
  },
  {
   "cell_type": "markdown",
   "metadata": {},
   "source": [
    "# STEP 2: Data Understanding.\n",
    "\n",
    "Mục đích: Hiểu rõ chất lượng đặc điểm và tiền xử lý dữ liệu ảnh\n",
    "\n",
    "Bao gồm \n",
    "- Inconsistent: Tìm dữ liệu không nhất quán\n",
    "- Data Overview: Kiểm tra tổng quan dữ liệu( số lượng ảnh và kích thước phổ biến)\n",
    "- Imbalanced: Kiểm tra sự mất cân bằng giữa các lớp ( A, B, C, ...)\n",
    "- Data Augmentation : Tăng cường dữ liệu "
   ]
  },
  {
   "cell_type": "code",
   "execution_count": null,
   "metadata": {},
   "outputs": [],
   "source": [
    "# 2.1 Tìm dữ liệu không nhất quán \n",
    "dataset_path=\"../dataset\"\n",
    "\n",
    "# duyệt từng tệp trong từng thư mục con của dataset\n",
    "\n",
    "for person in os.listdir(dataset_path): \n",
    "    person_path = os.path.join(dataset_path, person)\n",
    "    for img_file in os.listdir(person_path):\n",
    "        img_path = os.path.join(person_path, img_file)\n",
    "        try:\n",
    "            with Image.open(img_path) as img:\n",
    "                img.verify()  # hàm xác minh ảnh\n",
    "        except (UnidentifiedImageError, OSError):\n",
    "            print(f\"Ảnh lỗi: {img_path} \\n Thực hiện xóa...\")\n",
    "            os.remove(img_path)  "
   ]
  },
  {
   "cell_type": "code",
   "execution_count": null,
   "metadata": {},
   "outputs": [],
   "source": [
    "# 2.2 kiểm tra số lượng ảnh và kích thước phổ biến\n",
    "sizes = []\n",
    "for person in os.listdir(dataset_path):\n",
    "    person_path = os.path.join(dataset_path, person)\n",
    "    for img_file in os.listdir(person_path):\n",
    "        img_path = os.path.join(person_path, img_file)\n",
    "        try:\n",
    "            with Image.open(img_path) as img:\n",
    "                sizes.append(img.size)\n",
    "        except:\n",
    "            pass  # Bỏ qua ảnh lỗi đã phát hiện ở trên\n",
    "\n",
    "print(\"Số lượng ảnh:\", len(sizes))\n",
    "print(\"Kích thước phổ biến nhất:\", max(set(sizes), key=sizes.count))"
   ]
  },
  {
   "cell_type": "code",
   "execution_count": null,
   "metadata": {},
   "outputs": [],
   "source": [
    "# 2.3 Kiểm tra sự mất cân bằng giữa các lớp\n",
    "\n",
    "class_counts = defaultdict(int)\n",
    "\n",
    "# Đếm số lượng ảnh của mỗi lớp\n",
    "for person in os.listdir(dataset_path):\n",
    "    person_path = os.path.join(dataset_path, person)\n",
    "    if os.path.isdir(person_path):\n",
    "        for img_file in os.listdir(person_path):\n",
    "            if img_file.lower().endswith(('.jpg', '.jpeg', '.png')):\n",
    "                class_counts[person] += 1\n",
    "\n",
    "# Vẽ biểu đồ cột\n",
    "labels = list(class_counts.keys())\n",
    "values = list(class_counts.values())\n",
    "\n",
    "plt.figure(figsize=(10, 5))\n",
    "plt.bar(labels, values, color='skyblue')\n",
    "plt.xlabel(\"Lớp (Tên ký hiệu)\")\n",
    "plt.ylabel(\"Số lượng ảnh\")\n",
    "plt.title(\"Biểu đồ thể hiện sự mất cân bằng giữa các lớp\")\n",
    "plt.xticks(rotation=45)\n",
    "plt.tight_layout()\n",
    "plt.show()\n"
   ]
  },
  {
   "cell_type": "code",
   "execution_count": null,
   "metadata": {},
   "outputs": [],
   "source": [
    "# 2.4 Tăng cường dữ liệu\n",
    "# nếu người nào có số lượng ảnh dưới 60 thì tăng cường bằng các pp tcdl\n",
    "\n",
    "min_images = 230 \n",
    "def augment_image(img): # Các phương pháp tăng cường dữ liệu\n",
    "    operations = [\n",
    "        lambda x: x.rotate(15), # xoay phải 1 góc 15 độ\n",
    "        lambda x: x.rotate(-15),# xoay trái 1 góc 15 độ\n",
    "        lambda x: x.rotate(10), # xoay phải 10 độ\n",
    "        lambda x: x.rotate(-10),# xoay trái 10 độ\n",
    "        lambda x: ImageOps.mirror(x), # lật ngang\n",
    "        lambda x: ImageEnhance.Brightness(x).enhance(1.5), # tăng độ sáng\n",
    "        lambda x: ImageEnhance.Color(x).enhance(1.5), # tăng độ bão hòa\n",
    "    ]\n",
    "    op = random.choice(operations)\n",
    "    return op(img)\n",
    "\n",
    "for person in os.listdir(dataset_path):\n",
    "    person_path = os.path.join(dataset_path, person)\n",
    "    if not os.path.isdir(person_path):\n",
    "        continue\n",
    "\n",
    "    # Đếm số ảnh hiện có\n",
    "    imgs = [f for f in os.listdir(person_path) if f.lower().endswith(('.jpg', '.jpeg', '.png'))]\n",
    "    count = len(imgs)\n",
    "    print(f\"{person} hiện có {count} ảnh.\")\n",
    "    if count >= min_images:\n",
    "        continue  # Không cần tăng cường\n",
    "    # Tạo thêm ảnh để đủ min_images\n",
    "    needed = min_images - count\n",
    "    print(f\"Tăng cường thêm {needed} ảnh cho lớp {person}.\")\n",
    "\n",
    "    for i in range(needed):\n",
    "        # Chọn ngẫu nhiên 1 ảnh gốc để biến đổi\n",
    "        orig_img_name = random.choice(imgs)\n",
    "        orig_img_path = os.path.join(person_path, orig_img_name)\n",
    "        with Image.open(orig_img_path) as img:\n",
    "            aug_img = augment_image(img)\n",
    "            # Lưu ảnh mới với tên mới\n",
    "            new_img_name = f\"aug_{i}_{orig_img_name}\"\n",
    "            new_img_path = os.path.join(person_path, new_img_name)\n",
    "            aug_img.save(new_img_path)\n",
    "\n",
    "print(\"Tăng cường dữ liệu hoàn tất.\")\n"
   ]
  }
 ],
 "metadata": {
  "kernelspec": {
   "display_name": "Python 3",
   "language": "python",
   "name": "python3"
  },
  "language_info": {
   "codemirror_mode": {
    "name": "ipython",
    "version": 3
   },
   "file_extension": ".py",
   "mimetype": "text/x-python",
   "name": "python",
   "nbconvert_exporter": "python",
   "pygments_lexer": "ipython3",
   "version": "3.10.7"
  }
 },
 "nbformat": 4,
 "nbformat_minor": 2
}
