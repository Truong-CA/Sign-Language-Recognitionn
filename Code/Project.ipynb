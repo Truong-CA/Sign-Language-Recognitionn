{
 "cells": [
  {
   "cell_type": "markdown",
   "metadata": {},
   "source": [
    "# Import Package"
   ]
  },
  {
   "cell_type": "code",
   "execution_count": null,
   "metadata": {},
   "outputs": [],
   "source": [
    "import os\n",
    "import cv2\n",
    "import numpy as np\n",
    "from tqdm import tqdm\n",
    "from PIL import Image, ImageFile,UnidentifiedImageError, ImageEnhance,ImageOps\n",
    "import matplotlib.pyplot as plt\n",
    "from sklearn.preprocessing import LabelEncoder\n",
    "from collections import defaultdict\n",
    "from sklearn.preprocessing import LabelEncoder\n",
    "from scipy.stats import skew\n",
    "import random\n",
    "import torch\n",
    "import seaborn as sns\n",
    "import pickle\n",
    "import mediapipe as mp\n",
    "from tensorflow.keras.models import Sequential\n",
    "from tensorflow.keras.layers import Dense, Dropout\n",
    "from tensorflow.keras.utils import to_categorical\n",
    "from sklearn.model_selection import train_test_split"
   ]
  },
  {
   "cell_type": "markdown",
   "metadata": {},
   "source": [
    "# STEP 1:  Problem Understanding \n",
    "\n",
    "- Bài toán: Nhận diện ký hiệu cơ thể chuyển sang ngôn ngữ đọc nói từ ảnh và video có sẵn.\n",
    "\n",
    "- Loại bài toán: Phân loại ký hiệu tay, xử lý chuỗi văn bản, chuyển văn bản sang giọng nói .\n",
    "\n",
    "- Đầu vào:  Các ảnh và video bàn tay và cơ thể người đang thưc hiện các ký hiệu.\n",
    "\n",
    "- Output : (target) đưa ra văn bản và giọng nói sau khi đã nhận diện được chuỗi hành dộng.\n",
    "\n",
    "- Mục tiêu: Giúp người khiếm thính và người khiếm thị có thể giao tiếp tốt với mọi người xung quanh."
   ]
  },
  {
   "cell_type": "code",
   "execution_count": null,
   "metadata": {},
   "outputs": [],
   "source": []
  }
 ],
 "metadata": {
  "language_info": {
   "name": "python"
  }
 },
 "nbformat": 4,
 "nbformat_minor": 2
}
